{
 "cells": [
  {
   "cell_type": "markdown",
   "metadata": {},
   "source": [
    "# Import Library"
   ]
  },
  {
   "cell_type": "code",
   "execution_count": 1,
   "metadata": {},
   "outputs": [],
   "source": [
    "import os\n",
    "from tfx.orchestration.beam.beam_dag_runner import BeamDagRunner\n",
    "from modules import components, pipeline"
   ]
  },
  {
   "cell_type": "markdown",
   "metadata": {},
   "source": [
    "# Set Variabel"
   ]
  },
  {
   "cell_type": "code",
   "execution_count": 2,
   "metadata": {},
   "outputs": [],
   "source": [
    "PIPELANE_NAME = \"employee-attrition-pipeline\"\n",
    "\n",
    "# Pipeline inputs\n",
    "DATA_ROOT = \"data\"\n",
    "TRANSFORM_MODULE_FILE = \"modules/transform.py\"\n",
    "TUNER_MODULE_FILE = \"modules/tuner.py\"\n",
    "TRAINER_MODULE_FILE = \"modules/trainer.py\"\n",
    "\n",
    "# Pipeline outputs\n",
    "OUTPUT_BASE = \"outputs\"\n",
    "\n",
    "serving_model_dir = os.path.join(OUTPUT_BASE, \"serving_model\")\n",
    "pipeline_root = os.path.join(OUTPUT_BASE, PIPELANE_NAME)\n",
    "metadata_path = os.path.join(pipeline_root, \"metadata.sqlite\")"
   ]
  },
  {
   "cell_type": "markdown",
   "metadata": {},
   "source": [
    "# Menjalankan ML Pipeline"
   ]
  },
  {
   "cell_type": "code",
   "execution_count": 3,
   "metadata": {},
   "outputs": [
    {
     "name": "stdout",
     "output_type": "stream",
     "text": [
      "Trial 30 Complete [00h 00m 06s]\n",
      "val_loss: 0.48993873596191406\n",
      "\n",
      "Best val_loss So Far: 0.41366514563560486\n",
      "Total elapsed time: 00h 01m 47s\n",
      "INFO:tensorflow:Oracle triggered exit\n"
     ]
    },
    {
     "name": "stderr",
     "output_type": "stream",
     "text": [
      "INFO:tensorflow:Oracle triggered exit\n"
     ]
    },
    {
     "name": "stdout",
     "output_type": "stream",
     "text": [
      "Results summary\n",
      "Results in outputs\\employee-attrition-pipeline\\Tuner\\.system\\executor_execution\\7\\.temp\\7\\kt_hyperband\n",
      "Showing 10 best trials\n",
      "<keras_tuner.engine.objective.Objective object at 0x0000022C05EDBFA0>\n",
      "Trial summary\n",
      "Hyperparameters:\n",
      "num_hidden_layers: 1\n",
      "dense_unit: 144\n",
      "dropout_rate: 0.5\n",
      "learning_rate: 0.0001\n",
      "tuner/epochs: 10\n",
      "tuner/initial_epoch: 4\n",
      "tuner/bracket: 1\n",
      "tuner/round: 1\n",
      "tuner/trial_id: 0020\n",
      "Score: 0.41366514563560486\n",
      "Trial summary\n",
      "Hyperparameters:\n",
      "num_hidden_layers: 1\n",
      "dense_unit: 48\n",
      "dropout_rate: 0.6\n",
      "learning_rate: 0.001\n",
      "tuner/epochs: 4\n",
      "tuner/initial_epoch: 2\n",
      "tuner/bracket: 2\n",
      "tuner/round: 1\n",
      "tuner/trial_id: 0006\n",
      "Score: 0.418694406747818\n",
      "Trial summary\n",
      "Hyperparameters:\n",
      "num_hidden_layers: 1\n",
      "dense_unit: 80\n",
      "dropout_rate: 0.6\n",
      "learning_rate: 0.001\n",
      "tuner/epochs: 4\n",
      "tuner/initial_epoch: 0\n",
      "tuner/bracket: 1\n",
      "tuner/round: 0\n",
      "Score: 0.42373132705688477\n",
      "Trial summary\n",
      "Hyperparameters:\n",
      "num_hidden_layers: 3\n",
      "dense_unit: 176\n",
      "dropout_rate: 0.1\n",
      "learning_rate: 0.0001\n",
      "tuner/epochs: 2\n",
      "tuner/initial_epoch: 0\n",
      "tuner/bracket: 2\n",
      "tuner/round: 0\n",
      "Score: 0.4238224923610687\n",
      "Trial summary\n",
      "Hyperparameters:\n",
      "num_hidden_layers: 1\n",
      "dense_unit: 48\n",
      "dropout_rate: 0.6\n",
      "learning_rate: 0.001\n",
      "tuner/epochs: 2\n",
      "tuner/initial_epoch: 0\n",
      "tuner/bracket: 2\n",
      "tuner/round: 0\n",
      "Score: 0.42458194494247437\n",
      "Trial summary\n",
      "Hyperparameters:\n",
      "num_hidden_layers: 1\n",
      "dense_unit: 144\n",
      "dropout_rate: 0.5\n",
      "learning_rate: 0.0001\n",
      "tuner/epochs: 4\n",
      "tuner/initial_epoch: 0\n",
      "tuner/bracket: 1\n",
      "tuner/round: 0\n",
      "Score: 0.42468512058258057\n",
      "Trial summary\n",
      "Hyperparameters:\n",
      "num_hidden_layers: 1\n",
      "dense_unit: 80\n",
      "dropout_rate: 0.6\n",
      "learning_rate: 0.001\n",
      "tuner/epochs: 10\n",
      "tuner/initial_epoch: 4\n",
      "tuner/bracket: 1\n",
      "tuner/round: 1\n",
      "tuner/trial_id: 0023\n",
      "Score: 0.425798624753952\n",
      "Trial summary\n",
      "Hyperparameters:\n",
      "num_hidden_layers: 2\n",
      "dense_unit: 16\n",
      "dropout_rate: 0.30000000000000004\n",
      "learning_rate: 0.001\n",
      "tuner/epochs: 4\n",
      "tuner/initial_epoch: 2\n",
      "tuner/bracket: 2\n",
      "tuner/round: 1\n",
      "tuner/trial_id: 0008\n",
      "Score: 0.42649024724960327\n",
      "Trial summary\n",
      "Hyperparameters:\n",
      "num_hidden_layers: 2\n",
      "dense_unit: 16\n",
      "dropout_rate: 0.30000000000000004\n",
      "learning_rate: 0.001\n",
      "tuner/epochs: 2\n",
      "tuner/initial_epoch: 0\n",
      "tuner/bracket: 2\n",
      "tuner/round: 0\n",
      "Score: 0.4339495301246643\n",
      "Trial summary\n",
      "Hyperparameters:\n",
      "num_hidden_layers: 1\n",
      "dense_unit: 48\n",
      "dropout_rate: 0.6\n",
      "learning_rate: 0.001\n",
      "tuner/epochs: 10\n",
      "tuner/initial_epoch: 4\n",
      "tuner/bracket: 2\n",
      "tuner/round: 2\n",
      "tuner/trial_id: 0013\n",
      "Score: 0.43701398372650146\n"
     ]
    },
    {
     "name": "stderr",
     "output_type": "stream",
     "text": [
      "WARNING:absl:ArtifactQuery.property_predicate is not supported.\n",
      "WARNING:absl:ArtifactQuery.property_predicate is not supported.\n",
      "WARNING:absl:ArtifactQuery.property_predicate is not supported.\n",
      "WARNING:absl:ArtifactQuery.property_predicate is not supported.\n",
      "WARNING:absl:Examples artifact does not have payload_format custom property. Falling back to FORMAT_TF_EXAMPLE\n",
      "WARNING:absl:Examples artifact does not have payload_format custom property. Falling back to FORMAT_TF_EXAMPLE\n",
      "WARNING:absl:Examples artifact does not have payload_format custom property. Falling back to FORMAT_TF_EXAMPLE\n"
     ]
    },
    {
     "name": "stdout",
     "output_type": "stream",
     "text": [
      "Model: \"model_1\"\n",
      "__________________________________________________________________________________________________\n",
      " Layer (type)                   Output Shape         Param #     Connected to                     \n",
      "==================================================================================================\n",
      " BusinessTravel_xf (InputLayer)  [(None, 4)]         0           []                               \n",
      "                                                                                                  \n",
      " Department_xf (InputLayer)     [(None, 4)]          0           []                               \n",
      "                                                                                                  \n",
      " Education_xf (InputLayer)      [(None, 6)]          0           []                               \n",
      "                                                                                                  \n",
      " EducationField_xf (InputLayer)  [(None, 7)]         0           []                               \n",
      "                                                                                                  \n",
      " EnvironmentSatisfaction_xf (In  [(None, 5)]         0           []                               \n",
      " putLayer)                                                                                        \n",
      "                                                                                                  \n",
      " Gender_xf (InputLayer)         [(None, 3)]          0           []                               \n",
      "                                                                                                  \n",
      " JobInvolvement_xf (InputLayer)  [(None, 5)]         0           []                               \n",
      "                                                                                                  \n",
      " JobRole_xf (InputLayer)        [(None, 10)]         0           []                               \n",
      "                                                                                                  \n",
      " JobSatisfaction_xf (InputLayer  [(None, 5)]         0           []                               \n",
      " )                                                                                                \n",
      "                                                                                                  \n",
      " MaritalStatus_xf (InputLayer)  [(None, 4)]          0           []                               \n",
      "                                                                                                  \n",
      " Over18_xf (InputLayer)         [(None, 3)]          0           []                               \n",
      "                                                                                                  \n",
      " OverTime_xf (InputLayer)       [(None, 3)]          0           []                               \n",
      "                                                                                                  \n",
      " PerformanceRating_xf (InputLay  [(None, 5)]         0           []                               \n",
      " er)                                                                                              \n",
      "                                                                                                  \n",
      " RelationshipSatisfaction_xf (I  [(None, 5)]         0           []                               \n",
      " nputLayer)                                                                                       \n",
      "                                                                                                  \n",
      " WorkLifeBalance_xf (InputLayer  [(None, 5)]         0           []                               \n",
      " )                                                                                                \n",
      "                                                                                                  \n",
      " Age_xf (InputLayer)            [(None, 1)]          0           []                               \n",
      "                                                                                                  \n",
      " DailyRate_xf (InputLayer)      [(None, 1)]          0           []                               \n",
      "                                                                                                  \n",
      " DistanceFromHome_xf (InputLaye  [(None, 1)]         0           []                               \n",
      " r)                                                                                               \n",
      "                                                                                                  \n",
      " EmployeeCount_xf (InputLayer)  [(None, 1)]          0           []                               \n",
      "                                                                                                  \n",
      " HourlyRate_xf (InputLayer)     [(None, 1)]          0           []                               \n",
      "                                                                                                  \n",
      " JobLevel_xf (InputLayer)       [(None, 1)]          0           []                               \n",
      "                                                                                                  \n",
      " MonthlyIncome_xf (InputLayer)  [(None, 1)]          0           []                               \n",
      "                                                                                                  \n",
      " MonthlyRate_xf (InputLayer)    [(None, 1)]          0           []                               \n",
      "                                                                                                  \n",
      " NumCompaniesWorked_xf (InputLa  [(None, 1)]         0           []                               \n",
      " yer)                                                                                             \n",
      "                                                                                                  \n",
      " PercentSalaryHike_xf (InputLay  [(None, 1)]         0           []                               \n",
      " er)                                                                                              \n",
      "                                                                                                  \n",
      " StandardHours_xf (InputLayer)  [(None, 1)]          0           []                               \n",
      "                                                                                                  \n",
      " StockOptionLevel_xf (InputLaye  [(None, 1)]         0           []                               \n",
      " r)                                                                                               \n",
      "                                                                                                  \n",
      " TotalWorkingYears_xf (InputLay  [(None, 1)]         0           []                               \n",
      " er)                                                                                              \n",
      "                                                                                                  \n",
      " TrainingTimesLastYear_xf (Inpu  [(None, 1)]         0           []                               \n",
      " tLayer)                                                                                          \n",
      "                                                                                                  \n",
      " YearsAtCompany_xf (InputLayer)  [(None, 1)]         0           []                               \n",
      "                                                                                                  \n",
      " YearsInCurrentRole_xf (InputLa  [(None, 1)]         0           []                               \n",
      " yer)                                                                                             \n",
      "                                                                                                  \n",
      " YearsSinceLastPromotion_xf (In  [(None, 1)]         0           []                               \n",
      " putLayer)                                                                                        \n",
      "                                                                                                  \n",
      " YearsWithCurrManager_xf (Input  [(None, 1)]         0           []                               \n",
      " Layer)                                                                                           \n",
      "                                                                                                  \n"
     ]
    },
    {
     "name": "stdout",
     "output_type": "stream",
     "text": [
      " concatenate_1 (Concatenate)    (None, 92)           0           ['BusinessTravel_xf[0][0]',      \n",
      "                                                                  'Department_xf[0][0]',          \n",
      "                                                                  'Education_xf[0][0]',           \n",
      "                                                                  'EducationField_xf[0][0]',      \n",
      "                                                                  'EnvironmentSatisfaction_xf[0][0\n",
      "                                                                 ]',                              \n",
      "                                                                  'Gender_xf[0][0]',              \n",
      "                                                                  'JobInvolvement_xf[0][0]',      \n",
      "                                                                  'JobRole_xf[0][0]',             \n",
      "                                                                  'JobSatisfaction_xf[0][0]',     \n",
      "                                                                  'MaritalStatus_xf[0][0]',       \n",
      "                                                                  'Over18_xf[0][0]',              \n",
      "                                                                  'OverTime_xf[0][0]',            \n",
      "                                                                  'PerformanceRating_xf[0][0]',   \n",
      "                                                                  'RelationshipSatisfaction_xf[0][\n",
      "                                                                 0]',                             \n",
      "                                                                  'WorkLifeBalance_xf[0][0]',     \n",
      "                                                                  'Age_xf[0][0]',                 \n",
      "                                                                  'DailyRate_xf[0][0]',           \n",
      "                                                                  'DistanceFromHome_xf[0][0]',    \n",
      "                                                                  'EmployeeCount_xf[0][0]',       \n",
      "                                                                  'HourlyRate_xf[0][0]',          \n",
      "                                                                  'JobLevel_xf[0][0]',            \n",
      "                                                                  'MonthlyIncome_xf[0][0]',       \n",
      "                                                                  'MonthlyRate_xf[0][0]',         \n",
      "                                                                  'NumCompaniesWorked_xf[0][0]',  \n",
      "                                                                  'PercentSalaryHike_xf[0][0]',   \n",
      "                                                                  'StandardHours_xf[0][0]',       \n",
      "                                                                  'StockOptionLevel_xf[0][0]',    \n",
      "                                                                  'TotalWorkingYears_xf[0][0]',   \n",
      "                                                                  'TrainingTimesLastYear_xf[0][0]'\n",
      "                                                                 , 'YearsAtCompany_xf[0][0]',     \n",
      "                                                                  'YearsInCurrentRole_xf[0][0]',  \n",
      "                                                                  'YearsSinceLastPromotion_xf[0][0\n",
      "                                                                 ]',                              \n",
      "                                                                  'YearsWithCurrManager_xf[0][0]']\n",
      "                                                                                                  \n",
      " dense_5 (Dense)                (None, 144)          13392       ['concatenate_1[0][0]']          \n",
      "                                                                                                  \n",
      " dense_6 (Dense)                (None, 144)          20880       ['dense_5[0][0]']                \n",
      "                                                                                                  \n",
      " dropout_3 (Dropout)            (None, 144)          0           ['dense_6[0][0]']                \n",
      "                                                                                                  \n",
      " dense_7 (Dense)                (None, 1)            145         ['dropout_3[0][0]']              \n",
      "                                                                                                  \n",
      "==================================================================================================\n",
      "Total params: 34,417\n",
      "Trainable params: 34,417\n",
      "Non-trainable params: 0\n",
      "__________________________________________________________________________________________________\n",
      "Epoch 1/4\n",
      "125/128 [============================>.] - ETA: 0s - loss: 0.4734 - binary_accuracy: 0.8148\n",
      "Epoch 1: val_binary_accuracy improved from -inf to 0.80664, saving model to outputs\\employee-attrition-pipeline\\Trainer\\model\\8\\Format-Serving\n"
     ]
    },
    {
     "name": "stderr",
     "output_type": "stream",
     "text": [
      "WARNING:absl:Function `_wrapped_model` contains input name(s) BusinessTravel_xf, Department_xf, Education_xf, EducationField_xf, EnvironmentSatisfaction_xf, Gender_xf, JobInvolvement_xf, JobRole_xf, JobSatisfaction_xf, MaritalStatus_xf, Over18_xf, OverTime_xf, PerformanceRating_xf, RelationshipSatisfaction_xf, WorkLifeBalance_xf, Age_xf, DailyRate_xf, DistanceFromHome_xf, EmployeeCount_xf, HourlyRate_xf, JobLevel_xf, MonthlyIncome_xf, MonthlyRate_xf, NumCompaniesWorked_xf, PercentSalaryHike_xf, StandardHours_xf, StockOptionLevel_xf, TotalWorkingYears_xf, TrainingTimesLastYear_xf, YearsAtCompany_xf, YearsInCurrentRole_xf, YearsSinceLastPromotion_xf, YearsWithCurrManager_xf with unsupported characters which will be renamed to businesstravel_xf, department_xf, education_xf, educationfield_xf, environmentsatisfaction_xf, gender_xf, jobinvolvement_xf, jobrole_xf, jobsatisfaction_xf, maritalstatus_xf, over18_xf, overtime_xf, performancerating_xf, relationshipsatisfaction_xf, worklifebalance_xf, age_xf, dailyrate_xf, distancefromhome_xf, employeecount_xf, hourlyrate_xf, joblevel_xf, monthlyincome_xf, monthlyrate_xf, numcompaniesworked_xf, percentsalaryhike_xf, standardhours_xf, stockoptionlevel_xf, totalworkingyears_xf, trainingtimeslastyear_xf, yearsatcompany_xf, yearsincurrentrole_xf, yearssincelastpromotion_xf, yearswithcurrmanager_xf in the SavedModel.\n"
     ]
    },
    {
     "name": "stdout",
     "output_type": "stream",
     "text": [
      "INFO:tensorflow:Assets written to: outputs\\employee-attrition-pipeline\\Trainer\\model\\8\\Format-Serving\\assets\n"
     ]
    },
    {
     "name": "stderr",
     "output_type": "stream",
     "text": [
      "INFO:tensorflow:Assets written to: outputs\\employee-attrition-pipeline\\Trainer\\model\\8\\Format-Serving\\assets\n"
     ]
    },
    {
     "name": "stdout",
     "output_type": "stream",
     "text": [
      "128/128 [==============================] - 2s 14ms/step - loss: 0.4718 - binary_accuracy: 0.8157 - val_loss: 0.4731 - val_binary_accuracy: 0.8066\n",
      "Epoch 2/4\n",
      "117/128 [==========================>...] - ETA: 0s - loss: 0.3982 - binary_accuracy: 0.8459\n",
      "Epoch 2: val_binary_accuracy improved from 0.80664 to 0.80859, saving model to outputs\\employee-attrition-pipeline\\Trainer\\model\\8\\Format-Serving\n"
     ]
    },
    {
     "name": "stderr",
     "output_type": "stream",
     "text": [
      "WARNING:absl:Function `_wrapped_model` contains input name(s) BusinessTravel_xf, Department_xf, Education_xf, EducationField_xf, EnvironmentSatisfaction_xf, Gender_xf, JobInvolvement_xf, JobRole_xf, JobSatisfaction_xf, MaritalStatus_xf, Over18_xf, OverTime_xf, PerformanceRating_xf, RelationshipSatisfaction_xf, WorkLifeBalance_xf, Age_xf, DailyRate_xf, DistanceFromHome_xf, EmployeeCount_xf, HourlyRate_xf, JobLevel_xf, MonthlyIncome_xf, MonthlyRate_xf, NumCompaniesWorked_xf, PercentSalaryHike_xf, StandardHours_xf, StockOptionLevel_xf, TotalWorkingYears_xf, TrainingTimesLastYear_xf, YearsAtCompany_xf, YearsInCurrentRole_xf, YearsSinceLastPromotion_xf, YearsWithCurrManager_xf with unsupported characters which will be renamed to businesstravel_xf, department_xf, education_xf, educationfield_xf, environmentsatisfaction_xf, gender_xf, jobinvolvement_xf, jobrole_xf, jobsatisfaction_xf, maritalstatus_xf, over18_xf, overtime_xf, performancerating_xf, relationshipsatisfaction_xf, worklifebalance_xf, age_xf, dailyrate_xf, distancefromhome_xf, employeecount_xf, hourlyrate_xf, joblevel_xf, monthlyincome_xf, monthlyrate_xf, numcompaniesworked_xf, percentsalaryhike_xf, standardhours_xf, stockoptionlevel_xf, totalworkingyears_xf, trainingtimeslastyear_xf, yearsatcompany_xf, yearsincurrentrole_xf, yearssincelastpromotion_xf, yearswithcurrmanager_xf in the SavedModel.\n"
     ]
    },
    {
     "name": "stdout",
     "output_type": "stream",
     "text": [
      "INFO:tensorflow:Assets written to: outputs\\employee-attrition-pipeline\\Trainer\\model\\8\\Format-Serving\\assets\n"
     ]
    },
    {
     "name": "stderr",
     "output_type": "stream",
     "text": [
      "INFO:tensorflow:Assets written to: outputs\\employee-attrition-pipeline\\Trainer\\model\\8\\Format-Serving\\assets\n"
     ]
    },
    {
     "name": "stdout",
     "output_type": "stream",
     "text": [
      "128/128 [==============================] - 2s 13ms/step - loss: 0.3954 - binary_accuracy: 0.8464 - val_loss: 0.4520 - val_binary_accuracy: 0.8086\n",
      "Epoch 3/4\n",
      "128/128 [==============================] - ETA: 0s - loss: 0.3634 - binary_accuracy: 0.8466\n",
      "Epoch 3: val_binary_accuracy did not improve from 0.80859\n",
      "128/128 [==============================] - 1s 4ms/step - loss: 0.3634 - binary_accuracy: 0.8466 - val_loss: 0.4388 - val_binary_accuracy: 0.8057\n",
      "Epoch 4/4\n",
      "121/128 [===========================>..] - ETA: 0s - loss: 0.3319 - binary_accuracy: 0.8601\n",
      "Epoch 4: val_binary_accuracy improved from 0.80859 to 0.82910, saving model to outputs\\employee-attrition-pipeline\\Trainer\\model\\8\\Format-Serving\n"
     ]
    },
    {
     "name": "stderr",
     "output_type": "stream",
     "text": [
      "WARNING:absl:Function `_wrapped_model` contains input name(s) BusinessTravel_xf, Department_xf, Education_xf, EducationField_xf, EnvironmentSatisfaction_xf, Gender_xf, JobInvolvement_xf, JobRole_xf, JobSatisfaction_xf, MaritalStatus_xf, Over18_xf, OverTime_xf, PerformanceRating_xf, RelationshipSatisfaction_xf, WorkLifeBalance_xf, Age_xf, DailyRate_xf, DistanceFromHome_xf, EmployeeCount_xf, HourlyRate_xf, JobLevel_xf, MonthlyIncome_xf, MonthlyRate_xf, NumCompaniesWorked_xf, PercentSalaryHike_xf, StandardHours_xf, StockOptionLevel_xf, TotalWorkingYears_xf, TrainingTimesLastYear_xf, YearsAtCompany_xf, YearsInCurrentRole_xf, YearsSinceLastPromotion_xf, YearsWithCurrManager_xf with unsupported characters which will be renamed to businesstravel_xf, department_xf, education_xf, educationfield_xf, environmentsatisfaction_xf, gender_xf, jobinvolvement_xf, jobrole_xf, jobsatisfaction_xf, maritalstatus_xf, over18_xf, overtime_xf, performancerating_xf, relationshipsatisfaction_xf, worklifebalance_xf, age_xf, dailyrate_xf, distancefromhome_xf, employeecount_xf, hourlyrate_xf, joblevel_xf, monthlyincome_xf, monthlyrate_xf, numcompaniesworked_xf, percentsalaryhike_xf, standardhours_xf, stockoptionlevel_xf, totalworkingyears_xf, trainingtimeslastyear_xf, yearsatcompany_xf, yearsincurrentrole_xf, yearssincelastpromotion_xf, yearswithcurrmanager_xf in the SavedModel.\n"
     ]
    },
    {
     "name": "stdout",
     "output_type": "stream",
     "text": [
      "INFO:tensorflow:Assets written to: outputs\\employee-attrition-pipeline\\Trainer\\model\\8\\Format-Serving\\assets\n"
     ]
    },
    {
     "name": "stderr",
     "output_type": "stream",
     "text": [
      "INFO:tensorflow:Assets written to: outputs\\employee-attrition-pipeline\\Trainer\\model\\8\\Format-Serving\\assets\n"
     ]
    },
    {
     "name": "stdout",
     "output_type": "stream",
     "text": [
      "128/128 [==============================] - 2s 13ms/step - loss: 0.3298 - binary_accuracy: 0.8616 - val_loss: 0.4263 - val_binary_accuracy: 0.8291\n",
      "INFO:tensorflow:struct2tensor is not available.\n"
     ]
    },
    {
     "name": "stderr",
     "output_type": "stream",
     "text": [
      "INFO:tensorflow:struct2tensor is not available.\n"
     ]
    },
    {
     "name": "stdout",
     "output_type": "stream",
     "text": [
      "INFO:tensorflow:tensorflow_decision_forests is not available.\n"
     ]
    },
    {
     "name": "stderr",
     "output_type": "stream",
     "text": [
      "INFO:tensorflow:tensorflow_decision_forests is not available.\n"
     ]
    },
    {
     "name": "stdout",
     "output_type": "stream",
     "text": [
      "INFO:tensorflow:tensorflow_text is not available.\n"
     ]
    },
    {
     "name": "stderr",
     "output_type": "stream",
     "text": [
      "INFO:tensorflow:tensorflow_text is not available.\n"
     ]
    },
    {
     "name": "stdout",
     "output_type": "stream",
     "text": [
      "INFO:tensorflow:Assets written to: outputs\\employee-attrition-pipeline\\Trainer\\model\\8\\Format-Serving\\assets\n"
     ]
    },
    {
     "name": "stderr",
     "output_type": "stream",
     "text": [
      "INFO:tensorflow:Assets written to: outputs\\employee-attrition-pipeline\\Trainer\\model\\8\\Format-Serving\\assets\n",
      "WARNING:absl:ArtifactQuery.property_predicate is not supported.\n",
      "WARNING:absl:ArtifactQuery.property_predicate is not supported.\n"
     ]
    },
    {
     "name": "stdout",
     "output_type": "stream",
     "text": [
      "WARNING:tensorflow:Inconsistent references when loading the checkpoint into this object graph. For example, in the saved checkpoint object, `model.layer.weight` and `model.layer_copy.weight` reference the same variable, while in the current object these are two different variables. The referenced variables are:(<keras.saving.saved_model.load.TensorFlowTransform>TransformFeaturesLayer object at 0x0000022C119EC310> and <keras.engine.input_layer.InputLayer object at 0x0000022C6AEF4430>).\n"
     ]
    },
    {
     "name": "stderr",
     "output_type": "stream",
     "text": [
      "WARNING:tensorflow:Inconsistent references when loading the checkpoint into this object graph. For example, in the saved checkpoint object, `model.layer.weight` and `model.layer_copy.weight` reference the same variable, while in the current object these are two different variables. The referenced variables are:(<keras.saving.saved_model.load.TensorFlowTransform>TransformFeaturesLayer object at 0x0000022C119EC310> and <keras.engine.input_layer.InputLayer object at 0x0000022C6AEF4430>).\n"
     ]
    },
    {
     "name": "stdout",
     "output_type": "stream",
     "text": [
      "WARNING:tensorflow:Inconsistent references when loading the checkpoint into this object graph. For example, in the saved checkpoint object, `model.layer.weight` and `model.layer_copy.weight` reference the same variable, while in the current object these are two different variables. The referenced variables are:(<keras.saving.saved_model.load.TensorFlowTransform>TransformFeaturesLayer object at 0x0000022C70281B50> and <keras.engine.input_layer.InputLayer object at 0x0000022C35A47940>).\n"
     ]
    },
    {
     "name": "stderr",
     "output_type": "stream",
     "text": [
      "WARNING:tensorflow:Inconsistent references when loading the checkpoint into this object graph. For example, in the saved checkpoint object, `model.layer.weight` and `model.layer_copy.weight` reference the same variable, while in the current object these are two different variables. The referenced variables are:(<keras.saving.saved_model.load.TensorFlowTransform>TransformFeaturesLayer object at 0x0000022C70281B50> and <keras.engine.input_layer.InputLayer object at 0x0000022C35A47940>).\n"
     ]
    },
    {
     "name": "stdout",
     "output_type": "stream",
     "text": [
      "WARNING:tensorflow:Inconsistent references when loading the checkpoint into this object graph. For example, in the saved checkpoint object, `model.layer.weight` and `model.layer_copy.weight` reference the same variable, while in the current object these are two different variables. The referenced variables are:(<keras.saving.saved_model.load.TensorFlowTransform>TransformFeaturesLayer object at 0x0000022CA3F0BC70> and <keras.engine.input_layer.InputLayer object at 0x0000022C359908E0>).\n"
     ]
    },
    {
     "name": "stderr",
     "output_type": "stream",
     "text": [
      "WARNING:tensorflow:Inconsistent references when loading the checkpoint into this object graph. For example, in the saved checkpoint object, `model.layer.weight` and `model.layer_copy.weight` reference the same variable, while in the current object these are two different variables. The referenced variables are:(<keras.saving.saved_model.load.TensorFlowTransform>TransformFeaturesLayer object at 0x0000022CA3F0BC70> and <keras.engine.input_layer.InputLayer object at 0x0000022C359908E0>).\n"
     ]
    },
    {
     "name": "stdout",
     "output_type": "stream",
     "text": [
      "WARNING:tensorflow:Inconsistent references when loading the checkpoint into this object graph. For example, in the saved checkpoint object, `model.layer.weight` and `model.layer_copy.weight` reference the same variable, while in the current object these are two different variables. The referenced variables are:(<keras.saving.saved_model.load.TensorFlowTransform>TransformFeaturesLayer object at 0x0000022C29FB7D60> and <keras.engine.input_layer.InputLayer object at 0x0000022C052D24F0>).\n"
     ]
    },
    {
     "name": "stderr",
     "output_type": "stream",
     "text": [
      "WARNING:tensorflow:Inconsistent references when loading the checkpoint into this object graph. For example, in the saved checkpoint object, `model.layer.weight` and `model.layer_copy.weight` reference the same variable, while in the current object these are two different variables. The referenced variables are:(<keras.saving.saved_model.load.TensorFlowTransform>TransformFeaturesLayer object at 0x0000022C29FB7D60> and <keras.engine.input_layer.InputLayer object at 0x0000022C052D24F0>).\n"
     ]
    },
    {
     "name": "stdout",
     "output_type": "stream",
     "text": [
      "WARNING:tensorflow:Inconsistent references when loading the checkpoint into this object graph. For example, in the saved checkpoint object, `model.layer.weight` and `model.layer_copy.weight` reference the same variable, while in the current object these are two different variables. The referenced variables are:(<keras.saving.saved_model.load.TensorFlowTransform>TransformFeaturesLayer object at 0x0000022C2D2A57F0> and <keras.engine.input_layer.InputLayer object at 0x0000022C0E0F4EE0>).\n"
     ]
    },
    {
     "name": "stderr",
     "output_type": "stream",
     "text": [
      "WARNING:tensorflow:Inconsistent references when loading the checkpoint into this object graph. For example, in the saved checkpoint object, `model.layer.weight` and `model.layer_copy.weight` reference the same variable, while in the current object these are two different variables. The referenced variables are:(<keras.saving.saved_model.load.TensorFlowTransform>TransformFeaturesLayer object at 0x0000022C2D2A57F0> and <keras.engine.input_layer.InputLayer object at 0x0000022C0E0F4EE0>).\n"
     ]
    },
    {
     "name": "stdout",
     "output_type": "stream",
     "text": [
      "WARNING:tensorflow:Inconsistent references when loading the checkpoint into this object graph. For example, in the saved checkpoint object, `model.layer.weight` and `model.layer_copy.weight` reference the same variable, while in the current object these are two different variables. The referenced variables are:(<keras.saving.saved_model.load.TensorFlowTransform>TransformFeaturesLayer object at 0x0000022C363009D0> and <keras.engine.input_layer.InputLayer object at 0x0000022C11746790>).\n"
     ]
    },
    {
     "name": "stderr",
     "output_type": "stream",
     "text": [
      "WARNING:tensorflow:Inconsistent references when loading the checkpoint into this object graph. For example, in the saved checkpoint object, `model.layer.weight` and `model.layer_copy.weight` reference the same variable, while in the current object these are two different variables. The referenced variables are:(<keras.saving.saved_model.load.TensorFlowTransform>TransformFeaturesLayer object at 0x0000022C363009D0> and <keras.engine.input_layer.InputLayer object at 0x0000022C11746790>).\n"
     ]
    },
    {
     "name": "stdout",
     "output_type": "stream",
     "text": [
      "WARNING:tensorflow:Inconsistent references when loading the checkpoint into this object graph. For example, in the saved checkpoint object, `model.layer.weight` and `model.layer_copy.weight` reference the same variable, while in the current object these are two different variables. The referenced variables are:(<keras.saving.saved_model.load.TensorFlowTransform>TransformFeaturesLayer object at 0x0000022C058CCBE0> and <keras.engine.input_layer.InputLayer object at 0x0000022C05754BE0>).\n"
     ]
    },
    {
     "name": "stderr",
     "output_type": "stream",
     "text": [
      "WARNING:tensorflow:Inconsistent references when loading the checkpoint into this object graph. For example, in the saved checkpoint object, `model.layer.weight` and `model.layer_copy.weight` reference the same variable, while in the current object these are two different variables. The referenced variables are:(<keras.saving.saved_model.load.TensorFlowTransform>TransformFeaturesLayer object at 0x0000022C058CCBE0> and <keras.engine.input_layer.InputLayer object at 0x0000022C05754BE0>).\n"
     ]
    },
    {
     "name": "stdout",
     "output_type": "stream",
     "text": [
      "WARNING:tensorflow:Inconsistent references when loading the checkpoint into this object graph. For example, in the saved checkpoint object, `model.layer.weight` and `model.layer_copy.weight` reference the same variable, while in the current object these are two different variables. The referenced variables are:(<keras.saving.saved_model.load.TensorFlowTransform>TransformFeaturesLayer object at 0x0000022C008EF430> and <keras.engine.input_layer.InputLayer object at 0x0000022C058F4910>).\n"
     ]
    },
    {
     "name": "stderr",
     "output_type": "stream",
     "text": [
      "WARNING:tensorflow:Inconsistent references when loading the checkpoint into this object graph. For example, in the saved checkpoint object, `model.layer.weight` and `model.layer_copy.weight` reference the same variable, while in the current object these are two different variables. The referenced variables are:(<keras.saving.saved_model.load.TensorFlowTransform>TransformFeaturesLayer object at 0x0000022C008EF430> and <keras.engine.input_layer.InputLayer object at 0x0000022C058F4910>).\n"
     ]
    },
    {
     "name": "stdout",
     "output_type": "stream",
     "text": [
      "WARNING:tensorflow:From c:\\users\\hp\\onedrive\\documents\\university workspace\\dicoding\\mlops\\mlops\\lib\\site-packages\\tensorflow_model_analysis\\writers\\metrics_plots_and_validations_writer.py:110: tf_record_iterator (from tensorflow.python.lib.io.tf_record) is deprecated and will be removed in a future version.\n",
      "Instructions for updating:\n",
      "Use eager execution and: \n",
      "`tf.data.TFRecordDataset(path)`\n"
     ]
    },
    {
     "name": "stderr",
     "output_type": "stream",
     "text": [
      "WARNING:tensorflow:From c:\\users\\hp\\onedrive\\documents\\university workspace\\dicoding\\mlops\\mlops\\lib\\site-packages\\tensorflow_model_analysis\\writers\\metrics_plots_and_validations_writer.py:110: tf_record_iterator (from tensorflow.python.lib.io.tf_record) is deprecated and will be removed in a future version.\n",
      "Instructions for updating:\n",
      "Use eager execution and: \n",
      "`tf.data.TFRecordDataset(path)`\n",
      "WARNING:absl:ArtifactQuery.property_predicate is not supported.\n",
      "WARNING:absl:ArtifactQuery.property_predicate is not supported.\n"
     ]
    }
   ],
   "source": [
    "components_args = {\n",
    "    \"data_dir\": DATA_ROOT,\n",
    "    \"trainer_module\": TRAINER_MODULE_FILE,\n",
    "    \"tuner_module\": TUNER_MODULE_FILE,\n",
    "    \"transform_module\": TRANSFORM_MODULE_FILE,\n",
    "    \"train_steps\": 128,\n",
    "    \"eval_steps\": 32,\n",
    "    \"serving_model_dir\": serving_model_dir,\n",
    "}\n",
    "\n",
    "components = components.init_components(components_args)\n",
    "\n",
    "pipeline = pipeline.init_pipeline(\n",
    "    pipeline_root, \n",
    "    PIPELANE_NAME, \n",
    "    metadata_path, \n",
    "    components\n",
    ")\n",
    "BeamDagRunner().run(pipeline)"
   ]
  }
 ],
 "metadata": {
  "kernelspec": {
   "display_name": "mlops",
   "language": "python",
   "name": "mlops"
  },
  "language_info": {
   "codemirror_mode": {
    "name": "ipython",
    "version": 3
   },
   "file_extension": ".py",
   "mimetype": "text/x-python",
   "name": "python",
   "nbconvert_exporter": "python",
   "pygments_lexer": "ipython3",
   "version": "3.9.0"
  },
  "vscode": {
   "interpreter": {
    "hash": "4fbe767d8aceeb3d12b8ace95af708050548c1a4397082100e570a29d46fdef1"
   }
  }
 },
 "nbformat": 4,
 "nbformat_minor": 2
}
