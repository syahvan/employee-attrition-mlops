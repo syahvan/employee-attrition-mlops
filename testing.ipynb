{
 "cells": [
  {
   "cell_type": "code",
   "execution_count": 2,
   "metadata": {},
   "outputs": [],
   "source": [
    "import tensorflow as tf\n",
    "import pandas as pd\n",
    "import requests\n",
    "import json\n",
    "import base64\n",
    "import random"
   ]
  },
  {
   "cell_type": "code",
   "execution_count": 3,
   "metadata": {},
   "outputs": [
    {
     "data": {
      "text/plain": [
       "{'Age': 32,\n",
       " 'BusinessTravel': 'Travel_Rarely',\n",
       " 'DailyRate': 334,\n",
       " 'Department': 'Research & Development',\n",
       " 'DistanceFromHome': 5,\n",
       " 'Education': 2,\n",
       " 'EducationField': 'Life Sciences',\n",
       " 'EmployeeCount': 1,\n",
       " 'EnvironmentSatisfaction': 1,\n",
       " 'Gender': 'Male',\n",
       " 'HourlyRate': 80,\n",
       " 'JobInvolvement': 4,\n",
       " 'JobLevel': 1,\n",
       " 'JobRole': 'Research Scientist',\n",
       " 'JobSatisfaction': 2,\n",
       " 'MaritalStatus': 'Divorced',\n",
       " 'MonthlyIncome': 3298,\n",
       " 'MonthlyRate': 15053,\n",
       " 'NumCompaniesWorked': 0,\n",
       " 'Over18': 'Y',\n",
       " 'OverTime': 'Yes',\n",
       " 'PercentSalaryHike': 12,\n",
       " 'PerformanceRating': 3,\n",
       " 'RelationshipSatisfaction': 4,\n",
       " 'StandardHours': 80,\n",
       " 'StockOptionLevel': 2,\n",
       " 'TotalWorkingYears': 7,\n",
       " 'TrainingTimesLastYear': 5,\n",
       " 'WorkLifeBalance': 2,\n",
       " 'YearsAtCompany': 6,\n",
       " 'YearsInCurrentRole': 2,\n",
       " 'YearsSinceLastPromotion': 0,\n",
       " 'YearsWithCurrManager': 5}"
      ]
     },
     "execution_count": 3,
     "metadata": {},
     "output_type": "execute_result"
    }
   ],
   "source": [
    "df = pd.read_csv(\"data/HR-Employee-Attrition.csv\")\n",
    "df.pop(\"Attrition\")\n",
    "\n",
    "columns = df.columns.values\n",
    "rand = random.randint(0, len(columns))\n",
    "\n",
    "features = df.values[rand]\n",
    "\n",
    "inputs = {key: value for key, value in zip(columns, features)}\n",
    "inputs"
   ]
  },
  {
   "cell_type": "code",
   "execution_count": 4,
   "metadata": {},
   "outputs": [],
   "source": [
    "def string_feature(value):\n",
    "    return tf.train.Feature(\n",
    "        bytes_list=tf.train.BytesList(\n",
    "            value=[bytes(value, \"utf-8\")]\n",
    "        ),\n",
    "    )\n",
    "    \n",
    "def float_feature(value):\n",
    "    return tf.train.Feature(\n",
    "        float_list=tf.train.FloatList(\n",
    "            value=[value]\n",
    "        ),\n",
    "    )\n",
    "    \n",
    "def int_feature(value):\n",
    "    return tf.train.Feature(\n",
    "        int64_list=tf.train.Int64List(\n",
    "            value=[value]\n",
    "        ),\n",
    "    )"
   ]
  },
  {
   "cell_type": "code",
   "execution_count": 5,
   "metadata": {},
   "outputs": [],
   "source": [
    "def prepare_json(inputs: dict):\n",
    "    feature_spec = dict()\n",
    "    \n",
    "    for keys, values in inputs.items():\n",
    "        if isinstance(values, float):\n",
    "            feature_spec[keys] = float_feature(values)\n",
    "        elif isinstance(values, int):\n",
    "            feature_spec[keys] = int_feature(values)\n",
    "        elif isinstance(values, str):\n",
    "            feature_spec[keys] = string_feature(values)\n",
    "            \n",
    "    example = tf.train.Example(\n",
    "        features=tf.train.Features(feature=feature_spec)\n",
    "    ).SerializeToString()\n",
    "        \n",
    "    result = [\n",
    "        {\n",
    "            \"examples\": {\n",
    "                \"b64\": base64.b64encode(example).decode()\n",
    "            }\n",
    "        }\n",
    "    ]\n",
    "    \n",
    "    return json.dumps({\n",
    "        \"signature_name\": \"serving_default\",\n",
    "        \"instances\": result,\n",
    "    })"
   ]
  },
  {
   "cell_type": "code",
   "execution_count": 6,
   "metadata": {},
   "outputs": [],
   "source": [
    "def make_predictions(inputs):\n",
    "    json_data = prepare_json(inputs)\n",
    "    \n",
    "    endpoint = \"https://employee-pred-production.up.railway.app/v1/models/employee-attrition-model:predict\"\n",
    "    response = requests.post(endpoint, data=json_data)\n",
    "\n",
    "    prediction = response.json()[\"predictions\"][0][0]\n",
    "    \n",
    "    if prediction < 0.6:\n",
    "        return \"No Attrition\"\n",
    "    else:\n",
    "        return \"Yes Attrition\""
   ]
  },
  {
   "cell_type": "code",
   "execution_count": 7,
   "metadata": {},
   "outputs": [
    {
     "data": {
      "text/plain": [
       "'No Attrition'"
      ]
     },
     "execution_count": 7,
     "metadata": {},
     "output_type": "execute_result"
    }
   ],
   "source": [
    "make_predictions(inputs)"
   ]
  }
 ],
 "metadata": {
  "kernelspec": {
   "display_name": "mlops",
   "language": "python",
   "name": "mlops"
  },
  "language_info": {
   "codemirror_mode": {
    "name": "ipython",
    "version": 3
   },
   "file_extension": ".py",
   "mimetype": "text/x-python",
   "name": "python",
   "nbconvert_exporter": "python",
   "pygments_lexer": "ipython3",
   "version": "3.9.0"
  },
  "vscode": {
   "interpreter": {
    "hash": "4fbe767d8aceeb3d12b8ace95af708050548c1a4397082100e570a29d46fdef1"
   }
  }
 },
 "nbformat": 4,
 "nbformat_minor": 2
}
